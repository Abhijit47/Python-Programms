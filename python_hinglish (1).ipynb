{
  "cells": [
    {
      "cell_type": "code",
      "execution_count": null,
      "metadata": {
        "colab": {
          "base_uri": "https://localhost:8080/"
        },
        "id": "YY97Oq1fjEZB",
        "outputId": "c45c18e1-2a63-4104-c7f9-146b08c467f0"
      },
      "outputs": [
        {
          "name": "stdout",
          "output_type": "stream",
          "text": [
            "Hello Wassem\n"
          ]
        }
      ],
      "source": [
        "print(\"Hello Wassem\")"
      ]
    },
    {
      "cell_type": "code",
      "execution_count": null,
      "metadata": {
        "colab": {
          "base_uri": "https://localhost:8080/"
        },
        "id": "bJ6-06PVjgG5",
        "outputId": "acab6c42-93b6-4332-8ea2-621144f7cde0"
      },
      "outputs": [
        {
          "name": "stdout",
          "output_type": "stream",
          "text": [
            "Muskaan\n"
          ]
        }
      ],
      "source": [
        "print(\"Muskaan\")"
      ]
    },
    {
      "cell_type": "markdown",
      "metadata": {
        "id": "BeKKpuYklQva"
      },
      "source": [
        "Hey I love you, you are Future Developer "
      ]
    },
    {
      "cell_type": "code",
      "execution_count": null,
      "metadata": {
        "id": "qO4bUbsijscK"
      },
      "outputs": [],
      "source": [
        "# Objects & Data Structures "
      ]
    },
    {
      "cell_type": "code",
      "execution_count": null,
      "metadata": {
        "id": "3dAoRj-nl_Al"
      },
      "outputs": [],
      "source": [
        "# Solid = dabba \n",
        "# Liquid = bottle \n",
        "# Gas = cylinder \n"
      ]
    },
    {
      "cell_type": "code",
      "execution_count": null,
      "metadata": {
        "id": "s1wjX_8fm-3l"
      },
      "outputs": [],
      "source": [
        "# Whole Number  = integer = int\n",
        "# Decimal Number = float \n",
        "# Word = String "
      ]
    },
    {
      "cell_type": "code",
      "execution_count": null,
      "metadata": {
        "id": "MtN_Brwnnolh"
      },
      "outputs": [],
      "source": [
        "a = 10 "
      ]
    },
    {
      "cell_type": "code",
      "execution_count": null,
      "metadata": {
        "colab": {
          "base_uri": "https://localhost:8080/"
        },
        "id": "5lteNcmEoDWe",
        "outputId": "a26efae8-ceb1-42fb-d9b3-f2d85c35b21a"
      },
      "outputs": [
        {
          "data": {
            "text/plain": [
              "int"
            ]
          },
          "execution_count": 5,
          "metadata": {},
          "output_type": "execute_result"
        }
      ],
      "source": [
        "type(a)"
      ]
    },
    {
      "cell_type": "code",
      "execution_count": null,
      "metadata": {
        "id": "rXLFMgj8oF_l"
      },
      "outputs": [],
      "source": [
        "b = 5.6"
      ]
    },
    {
      "cell_type": "code",
      "execution_count": null,
      "metadata": {
        "colab": {
          "base_uri": "https://localhost:8080/"
        },
        "id": "7GRc5T_MoQau",
        "outputId": "e45d3537-7445-429a-b92e-3a8daae11ebf"
      },
      "outputs": [
        {
          "data": {
            "text/plain": [
              "float"
            ]
          },
          "execution_count": 7,
          "metadata": {},
          "output_type": "execute_result"
        }
      ],
      "source": [
        "type(b)"
      ]
    },
    {
      "cell_type": "code",
      "execution_count": null,
      "metadata": {
        "id": "Oft6Oef-oSOp"
      },
      "outputs": [],
      "source": [
        "c = 'Ishart Ara'"
      ]
    },
    {
      "cell_type": "code",
      "execution_count": null,
      "metadata": {
        "colab": {
          "base_uri": "https://localhost:8080/"
        },
        "id": "WX3uY1BxoZp4",
        "outputId": "afbfdc20-0732-4c27-b798-2efaadcdc3c9"
      },
      "outputs": [
        {
          "data": {
            "text/plain": [
              "str"
            ]
          },
          "execution_count": 9,
          "metadata": {},
          "output_type": "execute_result"
        }
      ],
      "source": [
        "type(c)"
      ]
    },
    {
      "cell_type": "code",
      "execution_count": null,
      "metadata": {
        "id": "YPgT4bi_oaqd"
      },
      "outputs": [],
      "source": [
        "# Variable Assignment ?"
      ]
    },
    {
      "cell_type": "code",
      "execution_count": null,
      "metadata": {
        "id": "f4uEKFispJjH"
      },
      "outputs": [],
      "source": [
        "# variable Name ? "
      ]
    },
    {
      "cell_type": "code",
      "execution_count": null,
      "metadata": {
        "id": "_TViC7RnpNiY"
      },
      "outputs": [],
      "source": [
        "abc = 100 "
      ]
    },
    {
      "cell_type": "code",
      "execution_count": null,
      "metadata": {
        "id": "34FyCK_1plHZ"
      },
      "outputs": [],
      "source": [
        "keshav_sharam = 1000 "
      ]
    },
    {
      "cell_type": "code",
      "execution_count": null,
      "metadata": {
        "colab": {
          "base_uri": "https://localhost:8080/"
        },
        "id": "LcL-OCyQpooz",
        "outputId": "0e3c0546-d848-4c75-f032-e185974978be"
      },
      "outputs": [
        {
          "data": {
            "text/plain": [
              "1000"
            ]
          },
          "execution_count": 14,
          "metadata": {},
          "output_type": "execute_result"
        }
      ],
      "source": [
        "keshav_sharam"
      ]
    },
    {
      "cell_type": "code",
      "execution_count": null,
      "metadata": {
        "colab": {
          "base_uri": "https://localhost:8080/",
          "height": 131
        },
        "id": "tM2QH47gppV_",
        "outputId": "3dfdb93b-6345-432f-ee3c-86b63081f333"
      },
      "outputs": [
        {
          "ename": "SyntaxError",
          "evalue": "ignored",
          "output_type": "error",
          "traceback": [
            "\u001b[0;36m  File \u001b[0;32m\"<ipython-input-15-69359918c340>\"\u001b[0;36m, line \u001b[0;32m1\u001b[0m\n\u001b[0;31m    2E4 robert = 99\u001b[0m\n\u001b[0m             ^\u001b[0m\n\u001b[0;31mSyntaxError\u001b[0m\u001b[0;31m:\u001b[0m invalid syntax\n"
          ]
        }
      ],
      "source": [
        "2E4 robert = 99 "
      ]
    },
    {
      "cell_type": "code",
      "execution_count": null,
      "metadata": {
        "colab": {
          "base_uri": "https://localhost:8080/",
          "height": 131
        },
        "id": "tLQU3VtPpz4-",
        "outputId": "737f459d-1ba8-44d9-96d8-01874c106362"
      },
      "outputs": [
        {
          "ename": "SyntaxError",
          "evalue": "ignored",
          "output_type": "error",
          "traceback": [
            "\u001b[0;36m  File \u001b[0;32m\"<ipython-input-16-af6256ea80e2>\"\u001b[0;36m, line \u001b[0;32m1\u001b[0m\n\u001b[0;31m    2E4robert = 99\u001b[0m\n\u001b[0m            ^\u001b[0m\n\u001b[0;31mSyntaxError\u001b[0m\u001b[0;31m:\u001b[0m invalid syntax\n"
          ]
        }
      ],
      "source": [
        "2E4robert = 99 "
      ]
    },
    {
      "cell_type": "code",
      "execution_count": null,
      "metadata": {
        "id": "zYdyV4Rsp4LA"
      },
      "outputs": [],
      "source": [
        "E4robert = 99 "
      ]
    },
    {
      "cell_type": "code",
      "execution_count": null,
      "metadata": {
        "id": "fc3JYJlmp8rG"
      },
      "outputs": [],
      "source": [
        "# List , Dict, Tuple, Set  = Secondary data types "
      ]
    },
    {
      "cell_type": "code",
      "execution_count": null,
      "metadata": {
        "id": "T4e6H7NqqvWg"
      },
      "outputs": [],
      "source": [
        "# List "
      ]
    },
    {
      "cell_type": "markdown",
      "metadata": {
        "id": "rGIqFwsIrAW1"
      },
      "source": [
        "\n",
        "\n",
        "1.   Milk\n",
        "2.   Bread \n",
        "3.   Chocolates \n",
        "4.   Monster drinks \n",
        "\n",
        "\n"
      ]
    },
    {
      "cell_type": "code",
      "execution_count": null,
      "metadata": {
        "id": "E7RT2rhIq_Ru"
      },
      "outputs": [],
      "source": [
        "lst = ['milk','bread','chocolate','monster']"
      ]
    },
    {
      "cell_type": "code",
      "execution_count": null,
      "metadata": {
        "colab": {
          "base_uri": "https://localhost:8080/"
        },
        "id": "YOfEX-ObrkE0",
        "outputId": "30c15650-4f33-4b59-d7fc-dc20ced617b5"
      },
      "outputs": [
        {
          "data": {
            "text/plain": [
              "['milk', 'bread', 'chocolate', 'monster']"
            ]
          },
          "execution_count": 23,
          "metadata": {},
          "output_type": "execute_result"
        }
      ],
      "source": [
        "lst"
      ]
    },
    {
      "cell_type": "code",
      "execution_count": null,
      "metadata": {
        "colab": {
          "base_uri": "https://localhost:8080/",
          "height": 35
        },
        "id": "rin3QLS9rm9Y",
        "outputId": "b2f0fb44-e158-4157-f50d-ad58bff4afde"
      },
      "outputs": [
        {
          "data": {
            "application/vnd.google.colaboratory.intrinsic+json": {
              "type": "string"
            },
            "text/plain": [
              "'milk'"
            ]
          },
          "execution_count": 25,
          "metadata": {},
          "output_type": "execute_result"
        }
      ],
      "source": [
        "lst[0]"
      ]
    },
    {
      "cell_type": "code",
      "execution_count": null,
      "metadata": {
        "colab": {
          "base_uri": "https://localhost:8080/",
          "height": 35
        },
        "id": "m4CcsqkErtI0",
        "outputId": "e54a2967-ccf8-49db-fbb7-cc6bea7bb277"
      },
      "outputs": [
        {
          "data": {
            "application/vnd.google.colaboratory.intrinsic+json": {
              "type": "string"
            },
            "text/plain": [
              "'chocolate'"
            ]
          },
          "execution_count": 26,
          "metadata": {},
          "output_type": "execute_result"
        }
      ],
      "source": [
        "lst[2]"
      ]
    },
    {
      "cell_type": "code",
      "execution_count": null,
      "metadata": {
        "colab": {
          "base_uri": "https://localhost:8080/",
          "height": 35
        },
        "id": "Vs-sYXJJr_Ug",
        "outputId": "59c6c600-505a-444c-d6e0-823f64f9fab3"
      },
      "outputs": [
        {
          "data": {
            "application/vnd.google.colaboratory.intrinsic+json": {
              "type": "string"
            },
            "text/plain": [
              "'monster'"
            ]
          },
          "execution_count": 27,
          "metadata": {},
          "output_type": "execute_result"
        }
      ],
      "source": [
        "lst[3]"
      ]
    },
    {
      "cell_type": "code",
      "execution_count": null,
      "metadata": {
        "colab": {
          "base_uri": "https://localhost:8080/",
          "height": 35
        },
        "id": "ZSvkNsAIsM2-",
        "outputId": "a33f694d-ceaf-44b7-a31d-4bf4a5ffd6eb"
      },
      "outputs": [
        {
          "data": {
            "application/vnd.google.colaboratory.intrinsic+json": {
              "type": "string"
            },
            "text/plain": [
              "'monster'"
            ]
          },
          "execution_count": 28,
          "metadata": {},
          "output_type": "execute_result"
        }
      ],
      "source": [
        "lst[-1]"
      ]
    },
    {
      "cell_type": "code",
      "execution_count": null,
      "metadata": {
        "id": "toIDRVeUsOIQ"
      },
      "outputs": [],
      "source": [
        "lst_names = ['Shubham','Akku','Sai durga', 'Editz','GamerAmit',' Anmol Pinto']"
      ]
    },
    {
      "cell_type": "code",
      "execution_count": null,
      "metadata": {
        "colab": {
          "base_uri": "https://localhost:8080/"
        },
        "id": "uAJbHLwqsiH9",
        "outputId": "1c986db2-2d73-4dab-dca4-cf3639eabdbc"
      },
      "outputs": [
        {
          "data": {
            "text/plain": [
              "['Shubham', 'Akku', 'Sai durga', 'Editz', 'GamerAmit', ' Anmol Pinto']"
            ]
          },
          "execution_count": 5,
          "metadata": {},
          "output_type": "execute_result"
        }
      ],
      "source": [
        "lst_names"
      ]
    },
    {
      "cell_type": "code",
      "execution_count": null,
      "metadata": {
        "id": "1DRz6GtYsjvw"
      },
      "outputs": [],
      "source": [
        "# dict "
      ]
    },
    {
      "cell_type": "code",
      "execution_count": null,
      "metadata": {
        "id": "BBD9QTmUsp9E"
      },
      "outputs": [],
      "source": [
        "# Sai Durga details"
      ]
    },
    {
      "cell_type": "code",
      "execution_count": null,
      "metadata": {
        "id": "RttcnsPltFGk"
      },
      "outputs": [],
      "source": [
        "sai_durga_details = [ 'sai durag', 'said@lu.in', '9662454426','mumbai']"
      ]
    },
    {
      "cell_type": "code",
      "execution_count": null,
      "metadata": {
        "id": "f90Wza30tSph"
      },
      "outputs": [],
      "source": [
        "Anmol = [ \"9662454424\", \"Pune\", 'anmol', 'anmol@lu.in']"
      ]
    },
    {
      "cell_type": "code",
      "execution_count": null,
      "metadata": {
        "colab": {
          "base_uri": "https://localhost:8080/"
        },
        "id": "qTRR3WwLteMJ",
        "outputId": "cc00b880-efed-41c0-d5cc-19551fe24d98"
      },
      "outputs": [
        {
          "data": {
            "text/plain": [
              "['sai durag', 'said@lu.in', '9662454426', 'mumbai']"
            ]
          },
          "execution_count": 36,
          "metadata": {},
          "output_type": "execute_result"
        }
      ],
      "source": [
        "sai_durga_details"
      ]
    },
    {
      "cell_type": "code",
      "execution_count": null,
      "metadata": {
        "colab": {
          "base_uri": "https://localhost:8080/"
        },
        "id": "2mF0bjyPtiwW",
        "outputId": "e4a3ebb3-68a2-4e0d-83e8-e91d62d80f8a"
      },
      "outputs": [
        {
          "data": {
            "text/plain": [
              "['9662454424', 'Pune', 'anmol', 'anmol@lu.in']"
            ]
          },
          "execution_count": 37,
          "metadata": {},
          "output_type": "execute_result"
        }
      ],
      "source": [
        "Anmol"
      ]
    },
    {
      "cell_type": "code",
      "execution_count": null,
      "metadata": {
        "colab": {
          "base_uri": "https://localhost:8080/",
          "height": 35
        },
        "id": "872oD6-HtjxA",
        "outputId": "3fab15bd-7498-410b-c25d-276de58414ab"
      },
      "outputs": [
        {
          "data": {
            "application/vnd.google.colaboratory.intrinsic+json": {
              "type": "string"
            },
            "text/plain": [
              "'sai durag'"
            ]
          },
          "execution_count": 39,
          "metadata": {},
          "output_type": "execute_result"
        }
      ],
      "source": [
        "sai_durga_details[0]"
      ]
    },
    {
      "cell_type": "code",
      "execution_count": null,
      "metadata": {
        "colab": {
          "base_uri": "https://localhost:8080/",
          "height": 35
        },
        "id": "WLv7M1CCtr-b",
        "outputId": "4b75a74f-e813-4f93-ef9e-bb697853f46e"
      },
      "outputs": [
        {
          "data": {
            "application/vnd.google.colaboratory.intrinsic+json": {
              "type": "string"
            },
            "text/plain": [
              "'9662454424'"
            ]
          },
          "execution_count": 40,
          "metadata": {},
          "output_type": "execute_result"
        }
      ],
      "source": [
        "Anmol[0]"
      ]
    },
    {
      "cell_type": "code",
      "execution_count": null,
      "metadata": {
        "id": "gUUm8Jz7tvEQ"
      },
      "outputs": [],
      "source": [
        "#dict "
      ]
    },
    {
      "cell_type": "code",
      "execution_count": null,
      "metadata": {
        "id": "pvPgQQMRt52d"
      },
      "outputs": [],
      "source": [
        "anu = {'key1':1,'key2':2,'key3':3}"
      ]
    },
    {
      "cell_type": "code",
      "execution_count": null,
      "metadata": {
        "colab": {
          "base_uri": "https://localhost:8080/"
        },
        "id": "tTAnVguhuKwd",
        "outputId": "a4d23ea6-4a69-4120-c647-04d386529b49"
      },
      "outputs": [
        {
          "data": {
            "text/plain": [
              "{'key1': 1, 'key2': 2, 'key3': 3}"
            ]
          },
          "execution_count": 45,
          "metadata": {},
          "output_type": "execute_result"
        }
      ],
      "source": [
        "anu"
      ]
    },
    {
      "cell_type": "code",
      "execution_count": null,
      "metadata": {
        "id": "SqI1VyG3uLfg"
      },
      "outputs": [],
      "source": [
        "Om = {'name':'Om','email':'om@lu.in',\"mobile\":\"9662454420\",\"city\":\"mumbai\"}"
      ]
    },
    {
      "cell_type": "code",
      "execution_count": null,
      "metadata": {
        "id": "M85ESr9buhLx"
      },
      "outputs": [],
      "source": [
        "Bhargav = {\"mobile\":\"9662454420\",'name':'Bhargav',\"city\":\"pune\", 'email':'bhargav@lu.in'}"
      ]
    },
    {
      "cell_type": "code",
      "execution_count": null,
      "metadata": {
        "colab": {
          "base_uri": "https://localhost:8080/",
          "height": 35
        },
        "id": "wojQyDCUu19-",
        "outputId": "b2800891-9f4e-4818-b54b-7d98160a2a97"
      },
      "outputs": [
        {
          "data": {
            "application/vnd.google.colaboratory.intrinsic+json": {
              "type": "string"
            },
            "text/plain": [
              "'om@lu.in'"
            ]
          },
          "execution_count": 51,
          "metadata": {},
          "output_type": "execute_result"
        }
      ],
      "source": [
        "Om['email']"
      ]
    },
    {
      "cell_type": "code",
      "execution_count": null,
      "metadata": {
        "colab": {
          "base_uri": "https://localhost:8080/",
          "height": 35
        },
        "id": "1U1mKb6wu4Da",
        "outputId": "cda06331-0104-4cdb-ce52-847d25751c71"
      },
      "outputs": [
        {
          "data": {
            "application/vnd.google.colaboratory.intrinsic+json": {
              "type": "string"
            },
            "text/plain": [
              "'bhargav@lu.in'"
            ]
          },
          "execution_count": 52,
          "metadata": {},
          "output_type": "execute_result"
        }
      ],
      "source": [
        "Bhargav['email']"
      ]
    },
    {
      "cell_type": "code",
      "execution_count": null,
      "metadata": {
        "id": "P3pucC-Hu7k1"
      },
      "outputs": [],
      "source": [
        "# Tuple , Set, Bool "
      ]
    },
    {
      "cell_type": "code",
      "execution_count": null,
      "metadata": {
        "id": "QzFz0j3vtvLa"
      },
      "outputs": [],
      "source": [
        "tup = (\"sai\",\"kiran\",\"loves\",\"you\",\"all\")"
      ]
    },
    {
      "cell_type": "code",
      "execution_count": null,
      "metadata": {
        "colab": {
          "base_uri": "https://localhost:8080/"
        },
        "id": "FmoLOG_St8e3",
        "outputId": "d62d4869-fa5f-4683-818f-f5fac532469f"
      },
      "outputs": [
        {
          "data": {
            "text/plain": [
              "('sai', 'kiran', 'loves', 'you', 'all')"
            ]
          },
          "execution_count": 3,
          "metadata": {},
          "output_type": "execute_result"
        }
      ],
      "source": [
        "tup "
      ]
    },
    {
      "cell_type": "code",
      "execution_count": null,
      "metadata": {
        "colab": {
          "base_uri": "https://localhost:8080/"
        },
        "id": "JTFqnecyt9AF",
        "outputId": "4c4e499f-0ac5-482d-b8ce-101732bfe68d"
      },
      "outputs": [
        {
          "data": {
            "text/plain": [
              "['Shubham', 'Akku', 'Sai durga', 'Editz', 'GamerAmit', ' Anmol Pinto']"
            ]
          },
          "execution_count": 6,
          "metadata": {},
          "output_type": "execute_result"
        }
      ],
      "source": [
        "lst_names"
      ]
    },
    {
      "cell_type": "code",
      "execution_count": null,
      "metadata": {
        "id": "mv1zTgSPuGa2"
      },
      "outputs": [],
      "source": [
        "lst_names[0] = \"Anshu\""
      ]
    },
    {
      "cell_type": "code",
      "execution_count": null,
      "metadata": {
        "colab": {
          "base_uri": "https://localhost:8080/"
        },
        "id": "cCeDwt2tuMYG",
        "outputId": "80504057-49a9-42f6-ac76-26d2842e2511"
      },
      "outputs": [
        {
          "data": {
            "text/plain": [
              "['Anshu', 'Akku', 'Sai durga', 'Editz', 'GamerAmit', ' Anmol Pinto']"
            ]
          },
          "execution_count": 8,
          "metadata": {},
          "output_type": "execute_result"
        }
      ],
      "source": [
        "lst_names"
      ]
    },
    {
      "cell_type": "code",
      "execution_count": null,
      "metadata": {
        "colab": {
          "base_uri": "https://localhost:8080/",
          "height": 166
        },
        "id": "X31okhMDuN2J",
        "outputId": "66ceefea-9f7d-4858-daa8-462b096bbb77"
      },
      "outputs": [
        {
          "ename": "TypeError",
          "evalue": "ignored",
          "output_type": "error",
          "traceback": [
            "\u001b[0;31m---------------------------------------------------------------------------\u001b[0m",
            "\u001b[0;31mTypeError\u001b[0m                                 Traceback (most recent call last)",
            "\u001b[0;32m<ipython-input-9-d11f1ffef0e0>\u001b[0m in \u001b[0;36m<module>\u001b[0;34m\u001b[0m\n\u001b[0;32m----> 1\u001b[0;31m \u001b[0mtup\u001b[0m\u001b[0;34m[\u001b[0m\u001b[0;36m0\u001b[0m\u001b[0;34m]\u001b[0m \u001b[0;34m=\u001b[0m \u001b[0;34m\"LetsUpgrade\"\u001b[0m\u001b[0;34m\u001b[0m\u001b[0;34m\u001b[0m\u001b[0m\n\u001b[0m",
            "\u001b[0;31mTypeError\u001b[0m: 'tuple' object does not support item assignment"
          ]
        }
      ],
      "source": [
        "tup[0] = \"LetsUpgrade\""
      ]
    },
    {
      "cell_type": "code",
      "execution_count": null,
      "metadata": {
        "id": "7zV7et-_uaXY"
      },
      "outputs": [],
      "source": [
        "# set "
      ]
    },
    {
      "cell_type": "code",
      "execution_count": null,
      "metadata": {
        "id": "9_jcqO2mutRy"
      },
      "outputs": [],
      "source": [
        "st = {1,1,1,1,1,2,3,4,4,4,5}"
      ]
    },
    {
      "cell_type": "code",
      "execution_count": null,
      "metadata": {
        "colab": {
          "base_uri": "https://localhost:8080/"
        },
        "id": "YcfYkkQFu9Gl",
        "outputId": "7c246b67-b817-4033-d40d-9efe78e6df49"
      },
      "outputs": [
        {
          "data": {
            "text/plain": [
              "{1, 2, 3, 4, 5}"
            ]
          },
          "execution_count": 12,
          "metadata": {},
          "output_type": "execute_result"
        }
      ],
      "source": [
        "st"
      ]
    },
    {
      "cell_type": "code",
      "execution_count": null,
      "metadata": {
        "id": "TVkvc373u9q_"
      },
      "outputs": [],
      "source": [
        "st1 = {4,4,4,3,2,2,2,7,7,7,1,1,1,1}"
      ]
    },
    {
      "cell_type": "code",
      "execution_count": null,
      "metadata": {
        "colab": {
          "base_uri": "https://localhost:8080/"
        },
        "id": "oO3Q1E8JvIRq",
        "outputId": "d6c5b9d3-1354-470b-ce3b-bea609f7f7c0"
      },
      "outputs": [
        {
          "data": {
            "text/plain": [
              "{1, 2, 3, 4, 7}"
            ]
          },
          "execution_count": 14,
          "metadata": {},
          "output_type": "execute_result"
        }
      ],
      "source": [
        "st1"
      ]
    },
    {
      "cell_type": "code",
      "execution_count": null,
      "metadata": {
        "id": "b6y_NrHgvJDU"
      },
      "outputs": [],
      "source": [
        "# Boolean "
      ]
    },
    {
      "cell_type": "code",
      "execution_count": null,
      "metadata": {
        "id": "f5Cl59y7vWJ0"
      },
      "outputs": [],
      "source": [
        "abc = False"
      ]
    },
    {
      "cell_type": "code",
      "execution_count": null,
      "metadata": {
        "colab": {
          "base_uri": "https://localhost:8080/"
        },
        "id": "J_Ik58-UvkDK",
        "outputId": "5ec95857-1047-4483-e7bf-b69b432a23b3"
      },
      "outputs": [
        {
          "data": {
            "text/plain": [
              "bool"
            ]
          },
          "execution_count": 21,
          "metadata": {},
          "output_type": "execute_result"
        }
      ],
      "source": [
        "type(abc)"
      ]
    },
    {
      "cell_type": "code",
      "execution_count": null,
      "metadata": {
        "id": "rqBuka9fvlkZ"
      },
      "outputs": [],
      "source": [
        "# Operators, IF else, For Loop, While loop\n"
      ]
    },
    {
      "cell_type": "code",
      "execution_count": null,
      "metadata": {
        "id": "J2ONdRmev0-n"
      },
      "outputs": [],
      "source": [
        "# comparions operators "
      ]
    },
    {
      "cell_type": "code",
      "execution_count": null,
      "metadata": {
        "id": "bE8p2QSmwqiJ"
      },
      "outputs": [],
      "source": [
        "#1. equal to \n",
        "#2. not equal to \n",
        "#3. greater than \n",
        "#4. less than\n",
        "#5. greater than equal to \n",
        "#6. less than equal to \n"
      ]
    },
    {
      "cell_type": "code",
      "execution_count": null,
      "metadata": {
        "id": "AH2z52fbxu8h"
      },
      "outputs": [],
      "source": [
        "a = 10 "
      ]
    },
    {
      "cell_type": "code",
      "execution_count": null,
      "metadata": {
        "id": "qKJ1B9zdxxkz"
      },
      "outputs": [],
      "source": [
        "b = 20 "
      ]
    },
    {
      "cell_type": "code",
      "execution_count": null,
      "metadata": {
        "colab": {
          "base_uri": "https://localhost:8080/"
        },
        "id": "YxKrnR0uxyTq",
        "outputId": "be066609-baf6-4d1f-cb5c-d2d1722d9d7b"
      },
      "outputs": [
        {
          "data": {
            "text/plain": [
              "False"
            ]
          },
          "execution_count": 27,
          "metadata": {},
          "output_type": "execute_result"
        }
      ],
      "source": [
        "a == b "
      ]
    },
    {
      "cell_type": "code",
      "execution_count": null,
      "metadata": {
        "colab": {
          "base_uri": "https://localhost:8080/"
        },
        "id": "l0wolmokxzkM",
        "outputId": "508ad262-8813-4942-e207-83e7a98f9b6b"
      },
      "outputs": [
        {
          "data": {
            "text/plain": [
              "True"
            ]
          },
          "execution_count": 28,
          "metadata": {},
          "output_type": "execute_result"
        }
      ],
      "source": [
        "a != b "
      ]
    },
    {
      "cell_type": "code",
      "execution_count": null,
      "metadata": {
        "colab": {
          "base_uri": "https://localhost:8080/"
        },
        "id": "caPyg_e1x8Uo",
        "outputId": "b3cd93dd-0a98-41ee-d588-840a25ef5837"
      },
      "outputs": [
        {
          "data": {
            "text/plain": [
              "True"
            ]
          },
          "execution_count": 29,
          "metadata": {},
          "output_type": "execute_result"
        }
      ],
      "source": [
        "a < b "
      ]
    },
    {
      "cell_type": "code",
      "execution_count": null,
      "metadata": {
        "colab": {
          "base_uri": "https://localhost:8080/"
        },
        "id": "OBeHZEXlx-Gi",
        "outputId": "d31a3ff9-3f6d-400a-e8dd-38a8a1cd68f9"
      },
      "outputs": [
        {
          "data": {
            "text/plain": [
              "False"
            ]
          },
          "execution_count": 30,
          "metadata": {},
          "output_type": "execute_result"
        }
      ],
      "source": [
        "a > b "
      ]
    },
    {
      "cell_type": "code",
      "execution_count": null,
      "metadata": {
        "colab": {
          "base_uri": "https://localhost:8080/"
        },
        "id": "qranbfdBx-qg",
        "outputId": "2439e799-bc8c-4c00-b12f-11ccfb93660e"
      },
      "outputs": [
        {
          "data": {
            "text/plain": [
              "True"
            ]
          },
          "execution_count": 31,
          "metadata": {},
          "output_type": "execute_result"
        }
      ],
      "source": [
        "a <= b "
      ]
    },
    {
      "cell_type": "code",
      "execution_count": null,
      "metadata": {
        "colab": {
          "base_uri": "https://localhost:8080/"
        },
        "id": "H10naTcWx_a-",
        "outputId": "aad1d13c-5a5c-4ea8-a3fb-8eafe6f7c6ef"
      },
      "outputs": [
        {
          "data": {
            "text/plain": [
              "False"
            ]
          },
          "execution_count": 32,
          "metadata": {},
          "output_type": "execute_result"
        }
      ],
      "source": [
        "a >= b"
      ]
    },
    {
      "cell_type": "code",
      "execution_count": null,
      "metadata": {
        "id": "Wpw_xNFQyAbM"
      },
      "outputs": [],
      "source": [
        "# if elif and else "
      ]
    },
    {
      "cell_type": "code",
      "execution_count": null,
      "metadata": {
        "colab": {
          "base_uri": "https://localhost:8080/"
        },
        "id": "2kO4n_ERyWK-",
        "outputId": "2360ec79-318a-4a95-cfe8-405b8af48f8d"
      },
      "outputs": [
        {
          "name": "stdout",
          "output_type": "stream",
          "text": [
            "sai will teach for 5 days only \n"
          ]
        }
      ],
      "source": [
        "live_count = 170 \n",
        "\n",
        "if live_count >= 200:\n",
        "  print(\"sai will teach for 6 day \")\n",
        "else:\n",
        "  print(\"sai will teach for 5 days only \")"
      ]
    },
    {
      "cell_type": "code",
      "execution_count": null,
      "metadata": {
        "colab": {
          "base_uri": "https://localhost:8080/"
        },
        "id": "pi3lFDHHy547",
        "outputId": "46613ae6-25af-4dab-df7c-3cf202ac4edc"
      },
      "outputs": [
        {
          "name": "stdout",
          "output_type": "stream",
          "text": [
            "A\n"
          ]
        }
      ],
      "source": [
        "marks = 91 \n",
        "\n",
        "if marks >= 90:\n",
        "  print(\"A\")\n",
        "elif marks >= 80:\n",
        "  print(\"B\")\n",
        "else:\n",
        "  print('C')"
      ]
    },
    {
      "cell_type": "code",
      "execution_count": null,
      "metadata": {
        "id": "EWGCe3re0EAX"
      },
      "outputs": [],
      "source": [
        "# Day 3 Assignment \n",
        "\n",
        "\n",
        "#Write a Python program to check if a number is Odd or even "
      ]
    },
    {
      "cell_type": "code",
      "execution_count": null,
      "metadata": {
        "id": "qaERHbQT0mCd"
      },
      "outputs": [],
      "source": [
        "# Loops "
      ]
    },
    {
      "cell_type": "code",
      "execution_count": null,
      "metadata": {
        "id": "SBuesNnO1BS9"
      },
      "outputs": [],
      "source": [
        "# When u want to repeat something again and again , \n",
        "# that time we use loops "
      ]
    },
    {
      "cell_type": "code",
      "execution_count": null,
      "metadata": {
        "id": "dfARatxt1eW7"
      },
      "outputs": [],
      "source": [
        "# For loop and While Loop "
      ]
    },
    {
      "cell_type": "code",
      "execution_count": null,
      "metadata": {
        "id": "JelAFcPB1jrV"
      },
      "outputs": [],
      "source": [
        "# for Loop "
      ]
    },
    {
      "cell_type": "code",
      "execution_count": null,
      "metadata": {
        "colab": {
          "base_uri": "https://localhost:8080/"
        },
        "id": "FUk_Er0n1me3",
        "outputId": "284a3c12-5528-4073-c87a-70ec77746a08"
      },
      "outputs": [
        {
          "data": {
            "text/plain": [
              "['Anshu', 'Akku', 'Sai durga', 'Editz', 'GamerAmit', ' Anmol Pinto']"
            ]
          },
          "execution_count": 50,
          "metadata": {},
          "output_type": "execute_result"
        }
      ],
      "source": [
        "lst_names"
      ]
    },
    {
      "cell_type": "code",
      "execution_count": null,
      "metadata": {
        "colab": {
          "base_uri": "https://localhost:8080/"
        },
        "id": "NvawEJBJ1pBw",
        "outputId": "da9e9a2d-e6e3-432f-893e-c9f5e2ccba9e"
      },
      "outputs": [
        {
          "name": "stdout",
          "output_type": "stream",
          "text": [
            "Hey, Anshu\n",
            "I want to you compelte this program\n",
            "Hey, Akku\n",
            "I want to you compelte this program\n",
            "Hey, Sai durga\n",
            "I want to you compelte this program\n",
            "Hey, Editz\n",
            "I want to you compelte this program\n",
            "Hey, GamerAmit\n",
            "I want to you compelte this program\n",
            "Hey,  Anmol Pinto\n",
            "I want to you compelte this program\n",
            "\n",
            "Loop ktm ho gaya hai bhaisahab, ghar javaooo\n"
          ]
        }
      ],
      "source": [
        "for x in lst_names:\n",
        "  print('Hey,',x)\n",
        "  print(\"I want to you compelte this program\")\n",
        "else:\n",
        "  print(\"\")\n",
        "  print(\"Loop ktm ho gaya hai bhaisahab, ghar javaooo\")"
      ]
    },
    {
      "cell_type": "code",
      "execution_count": null,
      "metadata": {
        "id": "SfY-mFuY13VV"
      },
      "outputs": [],
      "source": [
        "# while loop "
      ]
    },
    {
      "cell_type": "code",
      "execution_count": null,
      "metadata": {
        "colab": {
          "base_uri": "https://localhost:8080/"
        },
        "id": "OoqJf4iF2o95",
        "outputId": "c7d2b2ce-2784-49f1-d030-e88aa72a0ba0"
      },
      "outputs": [
        {
          "name": "stdout",
          "output_type": "stream",
          "text": [
            "Hey you can work, your age now is  20\n",
            "Hey you can work, your age now is  21\n",
            "Hey you can work, your age now is  22\n",
            "Hey you can work, your age now is  23\n",
            "Hey you can work, your age now is  24\n",
            "Hey you can work, your age now is  25\n",
            "Hey you can work, your age now is  26\n",
            "Hey you can work, your age now is  27\n",
            "Hey you can work, your age now is  28\n",
            "Hey you can work, your age now is  29\n",
            "Hey you can work, your age now is  30\n",
            "Hey you can work, your age now is  31\n",
            "Hey you can work, your age now is  32\n",
            "Hey you can work, your age now is  33\n",
            "Hey you can work, your age now is  34\n",
            "Hey you can work, your age now is  35\n",
            "Hey you can work, your age now is  36\n",
            "Hey you can work, your age now is  37\n",
            "Hey you can work, your age now is  38\n",
            "Hey you can work, your age now is  39\n",
            "Hey you can work, your age now is  40\n",
            "Hey you can work, your age now is  41\n",
            "Hey you can work, your age now is  42\n",
            "Hey you can work, your age now is  43\n",
            "Hey you can work, your age now is  44\n",
            "Hey you can work, your age now is  45\n",
            "Hey you can work, your age now is  46\n",
            "Hey you can work, your age now is  47\n",
            "Hey you can work, your age now is  48\n",
            "Hey you can work, your age now is  49\n",
            "Hey you can work, your age now is  50\n",
            "Hey you can work, your age now is  51\n",
            "Hey you can work, your age now is  52\n",
            "Hey you can work, your age now is  53\n",
            "Hey you can work, your age now is  54\n",
            "Hey you can work, your age now is  55\n",
            "Hey you can work, your age now is  56\n",
            "Hey you can work, your age now is  57\n",
            "Hey you can work, your age now is  58\n",
            "Hey you can work, your age now is  59\n",
            "\n",
            "Bhai bht kamm kar liyaa abhi aramm karoo !! \n"
          ]
        }
      ],
      "source": [
        "maria = 20 \n",
        "\n",
        "while maria < 60:\n",
        "  print(\"Hey you can work, your age now is \", maria )\n",
        "  maria = maria + 1 \n",
        "\n",
        "else:\n",
        "  print(\"\")\n",
        "  print(\"Bhai bht kamm kar liyaa abhi aramm karoo !! \")"
      ]
    },
    {
      "cell_type": "code",
      "execution_count": null,
      "metadata": {
        "id": "UbjVANe53c5h"
      },
      "outputs": [],
      "source": [
        "# functions "
      ]
    },
    {
      "cell_type": "code",
      "execution_count": null,
      "metadata": {
        "colab": {
          "base_uri": "https://localhost:8080/"
        },
        "id": "7yttU-6kdngl",
        "outputId": "194e69c9-7420-4c05-eba4-5d3bf64e4163"
      },
      "outputs": [
        {
          "name": "stdout",
          "output_type": "stream",
          "text": [
            "Hey Ishart\n",
            "hello Ishart\n",
            "Hola Ishart\n",
            "Namsate Ishart\n",
            "Hey Vinodh\n",
            "hello Vinodh\n",
            "Hola Vinodh\n",
            "Namsate Vinodh\n"
          ]
        }
      ],
      "source": [
        "name = \"Ishart\"\n",
        "print('Hey',name)\n",
        "print(\"hello\",name)\n",
        "print(\"Hola\",name)\n",
        "print(\"Namsate\", name)\n",
        "name1 = \"Vinodh\"\n",
        "print('Hey',name1)\n",
        "print(\"hello\",name1)\n",
        "print(\"Hola\",name1)\n",
        "print(\"Namsate\", name1)"
      ]
    },
    {
      "cell_type": "code",
      "execution_count": null,
      "metadata": {
        "id": "u0tYdgfxeEyr"
      },
      "outputs": [],
      "source": [
        "def nancy(name):\n",
        "  print('Hey',name)\n",
        "  print(\"hello\",name)\n",
        "  print(\"Hola\",name)\n",
        "  print(\"Namsate\", name)"
      ]
    },
    {
      "cell_type": "code",
      "execution_count": null,
      "metadata": {
        "colab": {
          "base_uri": "https://localhost:8080/"
        },
        "id": "FNXnuHE5eYqr",
        "outputId": "aedd09b3-2afc-4059-f9c9-72b0aa53365f"
      },
      "outputs": [
        {
          "name": "stdout",
          "output_type": "stream",
          "text": [
            "Hey ajay\n",
            "hello ajay\n",
            "Hola ajay\n",
            "Namsate ajay\n"
          ]
        }
      ],
      "source": [
        "nancy(\"ajay\")"
      ]
    },
    {
      "cell_type": "code",
      "execution_count": null,
      "metadata": {
        "colab": {
          "base_uri": "https://localhost:8080/"
        },
        "id": "yz9ER5RIebDN",
        "outputId": "c4ffa23b-403f-422a-d0cd-77193223d55c"
      },
      "outputs": [
        {
          "name": "stdout",
          "output_type": "stream",
          "text": [
            "Hey Gru\n",
            "hello Gru\n",
            "Hola Gru\n",
            "Namsate Gru\n"
          ]
        }
      ],
      "source": [
        "namaste(\"Gru\")"
      ]
    },
    {
      "cell_type": "code",
      "execution_count": null,
      "metadata": {
        "colab": {
          "base_uri": "https://localhost:8080/"
        },
        "id": "ZQWiUnyoeeNi",
        "outputId": "e105abd6-e39d-46a7-d460-29244aff631f"
      },
      "outputs": [
        {
          "name": "stdout",
          "output_type": "stream",
          "text": [
            "Hey Aditya\n",
            "hello Aditya\n",
            "Hola Aditya\n",
            "Namsate Aditya\n"
          ]
        }
      ],
      "source": [
        "namaste(\"Aditya\")"
      ]
    },
    {
      "cell_type": "code",
      "execution_count": null,
      "metadata": {
        "id": "BGddoT_fegC6"
      },
      "outputs": [],
      "source": [
        "# Def a function to find out if a number is \n",
        "# Odd or even "
      ]
    },
    {
      "cell_type": "code",
      "execution_count": null,
      "metadata": {
        "id": "o7IrhcsafZXx"
      },
      "outputs": [],
      "source": [
        "def oddOrEven(num):\n",
        "  #logic = when you divide a even num with 2 it should give 0 as reminder \n",
        "  if num%2 == 0:\n",
        "    print(\"Its a even number\")\n",
        "  else:\n",
        "    print(\"Its a odd number\")\n"
      ]
    },
    {
      "cell_type": "code",
      "execution_count": null,
      "metadata": {
        "colab": {
          "base_uri": "https://localhost:8080/"
        },
        "id": "IztfTQuYf4g9",
        "outputId": "f04420d6-6ef3-4da4-946a-0c325d6ba70d"
      },
      "outputs": [
        {
          "name": "stdout",
          "output_type": "stream",
          "text": [
            "Its a odd number\n"
          ]
        }
      ],
      "source": [
        "oddOrEven(3)"
      ]
    },
    {
      "cell_type": "code",
      "execution_count": null,
      "metadata": {
        "colab": {
          "base_uri": "https://localhost:8080/"
        },
        "id": "dcErtuUcf7N2",
        "outputId": "6cc11910-15c4-4f9b-f755-77f3c570fa01"
      },
      "outputs": [
        {
          "name": "stdout",
          "output_type": "stream",
          "text": [
            "Its a odd number\n"
          ]
        }
      ],
      "source": [
        "oddOrEven(1775)"
      ]
    },
    {
      "cell_type": "code",
      "execution_count": null,
      "metadata": {
        "colab": {
          "base_uri": "https://localhost:8080/"
        },
        "id": "muAZCygEgCgE",
        "outputId": "e380c9fa-12a3-4d90-b5cd-0835af4c2859"
      },
      "outputs": [
        {
          "name": "stdout",
          "output_type": "stream",
          "text": [
            "Its a even number\n"
          ]
        }
      ],
      "source": [
        "oddOrEven(24)"
      ]
    },
    {
      "cell_type": "code",
      "execution_count": null,
      "metadata": {
        "id": "wR6meEg6gFzO"
      },
      "outputs": [],
      "source": [
        "# Write a program which has a function to find \n",
        "# out a number is prime number or not "
      ]
    },
    {
      "cell_type": "code",
      "execution_count": null,
      "metadata": {
        "colab": {
          "base_uri": "https://localhost:8080/"
        },
        "id": "VeJZ0v6ehFv-",
        "outputId": "1d62f270-9553-40d5-e3d2-7adf949c46bb"
      },
      "outputs": [
        {
          "name": "stdout",
          "output_type": "stream",
          "text": [
            "Its a even number\n"
          ]
        }
      ],
      "source": [
        "xyz = oddOrEven(78)"
      ]
    },
    {
      "cell_type": "code",
      "execution_count": null,
      "metadata": {
        "id": "OxPp09lUhYok"
      },
      "outputs": [],
      "source": [
        "xyz"
      ]
    },
    {
      "cell_type": "code",
      "execution_count": null,
      "metadata": {
        "colab": {
          "base_uri": "https://localhost:8080/"
        },
        "id": "3oDVvPy0haUC",
        "outputId": "b2231132-d85a-45bf-811e-75e6ac0bf812"
      },
      "outputs": [
        {
          "data": {
            "text/plain": [
              "NoneType"
            ]
          },
          "execution_count": 19,
          "metadata": {},
          "output_type": "execute_result"
        }
      ],
      "source": [
        "type(xyz)"
      ]
    },
    {
      "cell_type": "code",
      "execution_count": null,
      "metadata": {
        "id": "jNT7B8Brhb5E"
      },
      "outputs": [],
      "source": [
        "def caculator(operator, value1,value2):\n",
        "  if operator == '+':\n",
        "    return value1 + value2\n",
        "  elif operator == \"-\":\n",
        "    return value1 - value2\n",
        "  elif operator == \"*\":\n",
        "    return value1 * value2\n",
        "  elif operator == \"/\":\n",
        "    return value1 / value2\n",
        "  else:\n",
        "    print(\"Define only +, -, *, / as operator\")"
      ]
    },
    {
      "cell_type": "code",
      "execution_count": null,
      "metadata": {
        "id": "Zo5A6B__iKR5"
      },
      "outputs": [],
      "source": [
        "result1 = caculator('*',98,99)"
      ]
    },
    {
      "cell_type": "code",
      "execution_count": null,
      "metadata": {
        "colab": {
          "base_uri": "https://localhost:8080/"
        },
        "id": "9FPXNTQ6iTKY",
        "outputId": "01cc9b11-d699-4cb7-b8d1-6e0d4a7bbeb2"
      },
      "outputs": [
        {
          "data": {
            "text/plain": [
              "9702"
            ]
          },
          "execution_count": 36,
          "metadata": {},
          "output_type": "execute_result"
        }
      ],
      "source": [
        "result1"
      ]
    },
    {
      "cell_type": "code",
      "execution_count": null,
      "metadata": {
        "colab": {
          "base_uri": "https://localhost:8080/"
        },
        "id": "hyPnywB_iaj6",
        "outputId": "a02d42f6-268b-4ad1-aafd-fc25921a74a9"
      },
      "outputs": [
        {
          "data": {
            "text/plain": [
              "int"
            ]
          },
          "execution_count": 37,
          "metadata": {},
          "output_type": "execute_result"
        }
      ],
      "source": [
        "type(result1)"
      ]
    },
    {
      "cell_type": "code",
      "execution_count": null,
      "metadata": {
        "id": "JGSKofYJicsK"
      },
      "outputs": [],
      "source": [
        "# *Args and **Kwargs  "
      ]
    },
    {
      "cell_type": "code",
      "execution_count": null,
      "metadata": {
        "colab": {
          "base_uri": "https://localhost:8080/"
        },
        "id": "J6vqHWeTkLXz",
        "outputId": "ae620665-773f-493e-9308-5ae303dcf5fb"
      },
      "outputs": [
        {
          "name": "stdout",
          "output_type": "stream",
          "text": [
            "hey hello sudarsan  Yashraj\n"
          ]
        }
      ],
      "source": [
        "print(\"hey\", \"hello\", \"sudarsan\", \" Yashraj\")"
      ]
    },
    {
      "cell_type": "code",
      "execution_count": null,
      "metadata": {
        "id": "FyG4-qldkWy5"
      },
      "outputs": [],
      "source": [
        "def sumOfAll (*capt):\n",
        "  temp = 0 \n",
        "  for x in capt:\n",
        "    temp = temp + x\n",
        "  return temp"
      ]
    },
    {
      "cell_type": "code",
      "execution_count": null,
      "metadata": {
        "colab": {
          "base_uri": "https://localhost:8080/"
        },
        "id": "JNG3qSwBkuU5",
        "outputId": "78059ad7-0dee-4a68-9876-618f911f502d"
      },
      "outputs": [
        {
          "name": "stdout",
          "output_type": "stream",
          "text": [
            "(1, 2, 3, 4, 5, 6, 7, 5, 6, 7, 9)\n",
            "<class 'tuple'>\n"
          ]
        },
        {
          "data": {
            "text/plain": [
              "55"
            ]
          },
          "execution_count": 46,
          "metadata": {},
          "output_type": "execute_result"
        }
      ],
      "source": [
        "sumOfAll(1,2,3,4,5,6,7,5,6,7,9)"
      ]
    },
    {
      "cell_type": "code",
      "execution_count": null,
      "metadata": {
        "id": "GGFWYQL3kxEE"
      },
      "outputs": [],
      "source": [
        "def printAll(**kwargs):\n",
        "\n",
        "  # for x in kwargs.values():\n",
        "  #   print(x)\n",
        "  for x in kwargs.keys():\n",
        "    print(x, ' = ', kwargs[x])"
      ]
    },
    {
      "cell_type": "code",
      "execution_count": null,
      "metadata": {
        "colab": {
          "base_uri": "https://localhost:8080/"
        },
        "id": "n1RG3tPHli6x",
        "outputId": "39f10a29-3718-44a3-83f2-645948285c07"
      },
      "outputs": [
        {
          "name": "stdout",
          "output_type": "stream",
          "text": [
            "a  =  10\n",
            "b  =  50\n",
            "c  =  90\n",
            "d  =  100\n",
            "e  =  1000\n"
          ]
        }
      ],
      "source": [
        "printAll(a=10,b=50,c=90,d = 100,e = 1000)"
      ]
    },
    {
      "cell_type": "code",
      "execution_count": null,
      "metadata": {
        "id": "5A8mTNUZln5g"
      },
      "outputs": [],
      "source": [
        "#X & O game "
      ]
    },
    {
      "cell_type": "code",
      "execution_count": null,
      "metadata": {
        "id": "r7CEePc7-gn0"
      },
      "outputs": [],
      "source": [
        "# 1. Delcare array of 9 with '_'\n",
        "# 2. Make nice format to print it \n",
        "# 3. write winning conditions \n",
        "# 4. specify turns \n",
        "# 5. take input in the specific position\n",
        "# 6. see if someone won & delcare winner \n",
        "# 7. See if more turns left yes or na \n",
        "# 8. repeat the game if turns are over "
      ]
    },
    {
      "cell_type": "markdown",
      "metadata": {
        "id": "2gWP-KWsAy_a"
      },
      "source": [
        "\n",
        "\n",
        "1.   Delcare a list with 9 Blocks of empty space \n",
        "2.   Print the board on screen \n",
        "3.   Select who will go first   \n",
        "4.   Take input from user A or user B with Specific Position  \n",
        "5.   Check if the pos is empty then only take it as a vaild input, else ask again \n",
        "6.  after the input is placed, check is some player has won, its a draw \n",
        "7. ask if the user want to play again \n",
        "8. Enter the score for all the matches \n",
        "\n",
        "\n"
      ]
    },
    {
      "cell_type": "code",
      "execution_count": null,
      "metadata": {
        "id": "IUKlUMnbAu38"
      },
      "outputs": [],
      "source": [
        "def emptyList_XO():\n",
        "  tmp_lst = []\n",
        "  for i in range(9):\n",
        "    tmp_lst.append(' ')\n",
        "  return tmp_lst  "
      ]
    },
    {
      "cell_type": "code",
      "execution_count": null,
      "metadata": {
        "id": "8M1P4fDSDJHl"
      },
      "outputs": [],
      "source": [
        "XO_list = emptyList_XO()"
      ]
    },
    {
      "cell_type": "code",
      "execution_count": null,
      "metadata": {
        "id": "xJ2nBV6gDKyK"
      },
      "outputs": [],
      "source": [
        "def printBoard(xoList):\n",
        "  print(xoList[0], \"|\",xoList[1], \"|\", xoList[2])\n",
        "  print(\"----------\")\n",
        "  print(xoList[3], \"|\",xoList[4], \"|\", xoList[5])\n",
        "  print(\"----------\")\n",
        "  print(xoList[6], \"|\",xoList[7], \"|\", xoList[8])"
      ]
    },
    {
      "cell_type": "code",
      "execution_count": null,
      "metadata": {
        "colab": {
          "base_uri": "https://localhost:8080/"
        },
        "id": "1nf2TO-PDcVu",
        "outputId": "3c410e2b-9d5c-4418-f99f-c8f54bcf092b"
      },
      "outputs": [
        {
          "name": "stdout",
          "output_type": "stream",
          "text": [
            "  |   | X\n",
            "----------\n",
            "  | X |  \n",
            "----------\n",
            "X |   |  \n"
          ]
        }
      ],
      "source": [
        "printBoard(XO_list)"
      ]
    },
    {
      "cell_type": "code",
      "execution_count": null,
      "metadata": {
        "id": "LV2cO9LoE6hk"
      },
      "outputs": [],
      "source": [
        "import random \n",
        "def whoWillGoFirst():\n",
        "  player = random.randint(0,1)\n",
        "  if player == 0:\n",
        "    print('player A | O will go first')\n",
        "  else:\n",
        "    print('player B | X will go first')\n",
        "  return player \n"
      ]
    },
    {
      "cell_type": "code",
      "execution_count": null,
      "metadata": {
        "id": "MRIYyP4-GSgU"
      },
      "outputs": [],
      "source": [
        "def takeInput(player,xoList):\n",
        "  print(\"Hey player, \",player )\n",
        "  flag = 0 \n",
        "  while flag ==0:\n",
        "    pos = int(input(\"Enter the position in between [ 0 to 8] - \"))\n",
        "    if pos>= 0 and pos <= 8:\n",
        "      if xoList[pos] == ' ':\n",
        "        print(\"valid input\")\n",
        "        if player == 0:\n",
        "          xoList[pos] = 'O'\n",
        "        else:\n",
        "          xoList[pos] = 'X'\n",
        "        return xoList \n",
        "        flag = 1\n",
        "      else:\n",
        "        print(\"please enter again, its occupied\")\n",
        "        flag = 0 \n",
        "    else:\n",
        "      print(\"please give valid input again \")\n",
        "      flag = 0 "
      ]
    },
    {
      "cell_type": "code",
      "execution_count": null,
      "metadata": {
        "colab": {
          "base_uri": "https://localhost:8080/"
        },
        "id": "feEq2t_eGUAx",
        "outputId": "5a09de33-b273-4d1b-e8fd-0b1677457f74"
      },
      "outputs": [
        {
          "name": "stdout",
          "output_type": "stream",
          "text": [
            "Hey player,  1\n",
            "Enter the position in between [ 0 to 8] - 7\n",
            "valid input\n"
          ]
        }
      ],
      "source": [
        "XO_list = takeInput(1,XO_list)"
      ]
    },
    {
      "cell_type": "code",
      "execution_count": null,
      "metadata": {
        "id": "XLC5OeI8HuV6"
      },
      "outputs": [],
      "source": [
        "# if return is 0 then player A is winner \n",
        "# if return is 1 then player B is winner \n",
        "# if return is 2 then its a draw\n",
        "\n",
        "def checkWin(xolist):\n",
        "  flag = 0 \n",
        "  print(xolist)\n",
        "  for i in range(9):\n",
        "    if xolist[i] == ' ':\n",
        "      flag = 1\n",
        "  \n",
        "  if (xolist[0] =='O' and xolist[1] == 'O'  and xolist[2] == 'O') or (xolist[3] =='O' and xolist[4] == 'O'  and xolist[5] == 'O')  or (xolist[6] =='O' and xolist[7] == 'O'  and xolist[8] == 'O') or (xolist[0] =='O' and xolist[3] == 'O'  and xolist[6] == 'O') or (xolist[1] =='O' and xolist[4] == 'O'  and xolist[7] == 'O')  or (xolist[2] =='O' and xolist[5] == 'O'  and xolist[8] == 'O') or (xolist[0] =='O' and xolist[4] == 'O'  and xolist[8] == 'O') or (xolist[6] =='O' and xolist[4] == 'O'  and xolist[2] == 'O'): \n",
        "    print('Player A is winner ')\n",
        "    return 0\n",
        "  elif (xolist[0] =='X' and xolist[1] == 'X'  and xolist[2] == 'X') or (xolist[3] =='X' and xolist[4] == 'X'  and xolist[5] == 'X')  or (xolist[6] =='X' and xolist[7] == 'X'  and xolist[8] == 'X') or (xolist[0] =='X' and xolist[3] == 'X'  and xolist[6] == 'X') or (xolist[1] =='X' and xolist[4] == 'X'  and xolist[7] == 'X') or (xolist[2] =='X' and xolist[5] == 'X'  and xolist[8] == 'X') or (xolist[0] =='X' and xolist[4] == 'X'  and xolist[8] == 'X') or (xolist[6] =='X' and xolist[4] == 'X'  and xolist[2] == 'X'): \n",
        "    print('Player B is winner ')\n",
        "    return 1 \n",
        "  elif flag == 1:\n",
        "    return -1\n",
        "  else:\n",
        "    return 2"
      ]
    },
    {
      "cell_type": "code",
      "execution_count": null,
      "metadata": {
        "id": "W3f0j20WKRqv"
      },
      "outputs": [],
      "source": []
    },
    {
      "cell_type": "code",
      "execution_count": null,
      "metadata": {
        "id": "5lgAV8bDKWj_"
      },
      "outputs": [],
      "source": []
    },
    {
      "cell_type": "code",
      "execution_count": null,
      "metadata": {
        "id": "Otria6rrKaLx"
      },
      "outputs": [],
      "source": []
    },
    {
      "cell_type": "code",
      "execution_count": null,
      "metadata": {
        "colab": {
          "base_uri": "https://localhost:8080/"
        },
        "id": "PznW1UrVN0QE",
        "outputId": "f565648b-4b62-4fec-a436-7f14dc8a02b1"
      },
      "outputs": [
        {
          "name": "stdout",
          "output_type": "stream",
          "text": [
            "  |   |  \n",
            "----------\n",
            "  |   |  \n",
            "----------\n",
            "  |   |  \n",
            "player A | O will go first\n",
            "Hey player,  0\n",
            "Enter the position in between [ 0 to 8] - 1\n",
            "valid input\n",
            "  | O |  \n",
            "----------\n",
            "  |   |  \n",
            "----------\n",
            "  |   |  \n",
            "[' ', 'O', ' ', ' ', ' ', ' ', ' ', ' ', ' ']\n",
            "Hey player,  1\n",
            "Enter the position in between [ 0 to 8] - 2\n",
            "valid input\n",
            "  | O | X\n",
            "----------\n",
            "  |   |  \n",
            "----------\n",
            "  |   |  \n",
            "[' ', 'O', 'X', ' ', ' ', ' ', ' ', ' ', ' ']\n",
            "Hey player,  0\n",
            "Enter the position in between [ 0 to 8] - 0\n",
            "valid input\n",
            "O | O | X\n",
            "----------\n",
            "  |   |  \n",
            "----------\n",
            "  |   |  \n",
            "['O', 'O', 'X', ' ', ' ', ' ', ' ', ' ', ' ']\n",
            "Hey player,  1\n",
            "Enter the position in between [ 0 to 8] - 3\n",
            "valid input\n",
            "O | O | X\n",
            "----------\n",
            "X |   |  \n",
            "----------\n",
            "  |   |  \n",
            "['O', 'O', 'X', 'X', ' ', ' ', ' ', ' ', ' ']\n",
            "Hey player,  0\n",
            "Enter the position in between [ 0 to 8] - 5\n",
            "valid input\n",
            "O | O | X\n",
            "----------\n",
            "X |   | O\n",
            "----------\n",
            "  |   |  \n",
            "['O', 'O', 'X', 'X', ' ', 'O', ' ', ' ', ' ']\n",
            "Hey player,  1\n",
            "Enter the position in between [ 0 to 8] - 4\n",
            "valid input\n",
            "O | O | X\n",
            "----------\n",
            "X | X | O\n",
            "----------\n",
            "  |   |  \n",
            "['O', 'O', 'X', 'X', 'X', 'O', ' ', ' ', ' ']\n",
            "Hey player,  0\n",
            "Enter the position in between [ 0 to 8] - 8\n",
            "valid input\n",
            "O | O | X\n",
            "----------\n",
            "X | X | O\n",
            "----------\n",
            "  |   | O\n",
            "['O', 'O', 'X', 'X', 'X', 'O', ' ', ' ', 'O']\n",
            "Hey player,  1\n",
            "Enter the position in between [ 0 to 8] - 6\n",
            "valid input\n",
            "O | O | X\n",
            "----------\n",
            "X | X | O\n",
            "----------\n",
            "X |   | O\n",
            "['O', 'O', 'X', 'X', 'X', 'O', 'X', ' ', 'O']\n",
            "Player B is winner \n",
            "win -  1\n"
          ]
        }
      ],
      "source": [
        "\n",
        "\n",
        "XO_list = emptyList_XO()\n",
        "printBoard(XO_list)\n",
        "play = whoWillGoFirst()\n",
        "ScoreA = 0 \n",
        "ScoreB = 0 \n",
        "\n",
        "gameStatus = 0\n",
        "chance = 0 \n",
        "\n",
        "while gameStatus == 0:\n",
        "  if play == 0:\n",
        "    XO_list = takeInput(0,XO_list)\n",
        "    printBoard(XO_list)\n",
        "    winStat = checkWin(XO_list)\n",
        "    play = 1\n",
        "  else:\n",
        "    XO_list = takeInput(1,XO_list)\n",
        "    printBoard(XO_list)\n",
        "    winStat = checkWin(XO_list)\n",
        "    play = 0\n",
        "  \n",
        "  if winStat == 0 or winStat == 1 or winStat == 2:\n",
        "    gameStatus = 1\n",
        "    print('win - ', winStat)\n",
        "  else:\n",
        "    gamestatus = 0 \n"
      ]
    },
    {
      "cell_type": "code",
      "execution_count": null,
      "metadata": {
        "id": "6tbmvm8uN9EU"
      },
      "outputs": [],
      "source": []
    }
  ],
  "metadata": {
    "colab": {
      "provenance": []
    },
    "kernelspec": {
      "display_name": "Python 3",
      "name": "python3"
    },
    "language_info": {
      "name": "python"
    }
  },
  "nbformat": 4,
  "nbformat_minor": 0
}
