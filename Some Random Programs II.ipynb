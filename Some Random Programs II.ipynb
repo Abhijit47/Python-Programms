{
 "cells": [
  {
   "cell_type": "code",
   "execution_count": 28,
   "id": "6da319c8",
   "metadata": {},
   "outputs": [
    {
     "name": "stdout",
     "output_type": "stream",
     "text": [
      "<calendar.HTMLCalendar object at 0x0000017A906FFC40>\n"
     ]
    }
   ],
   "source": [
    "import calendar\n",
    "\n",
    "# yy = int(input(\"Enter your Desired Year: \"))\n",
    "# mm = int(input(\"Enter your Desired Month: \"))\n",
    "yy=2022\n",
    "mm=3\n",
    "day=5\n",
    "# print(calendar.month(yy, mm))\n",
    "# print(calendar.HTMLCalendar\n",
    "print(calendar.HTMLCalendar(firstweekday=0))"
   ]
  },
  {
   "cell_type": "code",
   "execution_count": null,
   "id": "7310b04c",
   "metadata": {},
   "outputs": [],
   "source": []
  },
  {
   "cell_type": "code",
   "execution_count": null,
   "id": "dce47030",
   "metadata": {},
   "outputs": [],
   "source": []
  }
 ],
 "metadata": {
  "kernelspec": {
   "display_name": "Python 3 (ipykernel)",
   "language": "python",
   "name": "python3"
  },
  "language_info": {
   "codemirror_mode": {
    "name": "ipython",
    "version": 3
   },
   "file_extension": ".py",
   "mimetype": "text/x-python",
   "name": "python",
   "nbconvert_exporter": "python",
   "pygments_lexer": "ipython3",
   "version": "3.10.6"
  },
  "widgets": {
   "application/vnd.jupyter.widget-state+json": {
    "state": {},
    "version_major": 2,
    "version_minor": 0
   }
  }
 },
 "nbformat": 4,
 "nbformat_minor": 5
}
